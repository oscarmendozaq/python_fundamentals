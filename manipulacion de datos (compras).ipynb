{
  "nbformat": 4,
  "nbformat_minor": 0,
  "metadata": {
    "colab": {
      "provenance": []
    },
    "kernelspec": {
      "name": "python3",
      "display_name": "Python 3"
    },
    "language_info": {
      "name": "python"
    }
  },
  "cells": [
    {
      "cell_type": "code",
      "execution_count": 12,
      "metadata": {
        "colab": {
          "base_uri": "https://localhost:8080/"
        },
        "id": "tqkGDDaM-Zfg",
        "outputId": "76260ef4-3dcb-45af-c42d-01babe47dd72"
      },
      "outputs": [
        {
          "output_type": "stream",
          "name": "stdout",
          "text": [
            "ingrese el valor del item, para terminar digite cero 2000\n",
            "ingrese el valor del item, para terminar digite cero 2000\n",
            "ingrese el valor del item, para terminar digite cero 0\n",
            "el total a pagar es  3600.0 se te hizo descuento de  400.0\n"
          ]
        }
      ],
      "source": [
        "#manipulación de datos (compras)\n",
        "x=float(input(\"ingrese el valor del item, para terminar digite cero \"))\n",
        "suma=0\n",
        "\n",
        "while x != 0:\n",
        "  if x<0:\n",
        "    print(\"ingrese un valor positivo\")\n",
        "  else:\n",
        "   suma=suma+x\n",
        "  x=float(input(\"ingrese el valor del item, para terminar digite cero \"))\n",
        "\n",
        "if suma>1000:\n",
        "          print(\"el total a pagar es \",suma*0.9,\"se te hizo descuento de \",suma*0.1)\n",
        "else:\n",
        "          print(\"el total a pagar es \",suma)\n"
      ]
    }
  ]
}