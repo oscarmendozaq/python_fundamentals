{
  "cells": [
    {
      "cell_type": "code",
      "source": [
        "#arrays\r\n",
        "import numpy as np\r\n",
        "matriz_3x3= np.arange(9).reshape(3,3)\r\n",
        "print(matriz_3x3)"
      ],
      "outputs": [
        {
          "output_type": "display_data",
          "data": {
            "application/vnd.livy.statement-meta+json": {
              "spark_pool": "SPK09",
              "session_id": "2",
              "statement_id": 6,
              "state": "finished",
              "livy_statement_state": "available",
              "queued_time": "2023-07-17T21:36:19.4014827Z",
              "session_start_time": null,
              "execution_start_time": "2023-07-17T21:36:19.557106Z",
              "execution_finish_time": "2023-07-17T21:36:19.7186013Z",
              "spark_jobs": null,
              "parent_msg_id": "c7c13bc1-1eb6-4a63-bafa-dde63f30cf9c"
            },
            "text/plain": "StatementMeta(SPK09, 2, 6, Finished, Available)"
          },
          "metadata": {}
        },
        {
          "output_type": "stream",
          "name": "stdout",
          "text": [
            "[[0 1 2]\n [3 4 5]\n [6 7 8]]\n"
          ]
        }
      ],
      "execution_count": 5,
      "metadata": {}
    },
    {
      "cell_type": "code",
      "source": [
        "#matriz identidad\r\n",
        "matriz_identidad=np.identity(6)\r\n",
        "print(matriz_identidad)\r\n"
      ],
      "outputs": [
        {
          "output_type": "display_data",
          "data": {
            "application/vnd.livy.statement-meta+json": {
              "spark_pool": "SPK09",
              "session_id": "2",
              "statement_id": 7,
              "state": "finished",
              "livy_statement_state": "available",
              "queued_time": "2023-07-17T21:36:19.4477293Z",
              "session_start_time": null,
              "execution_start_time": "2023-07-17T21:36:19.8918076Z",
              "execution_finish_time": "2023-07-17T21:36:20.0721836Z",
              "spark_jobs": null,
              "parent_msg_id": "08bc0e2a-3eed-48c1-8f27-393167bb3255"
            },
            "text/plain": "StatementMeta(SPK09, 2, 7, Finished, Available)"
          },
          "metadata": {}
        },
        {
          "output_type": "stream",
          "name": "stdout",
          "text": [
            "[[1. 0. 0. 0. 0. 0.]\n [0. 1. 0. 0. 0. 0.]\n [0. 0. 1. 0. 0. 0.]\n [0. 0. 0. 1. 0. 0.]\n [0. 0. 0. 0. 1. 0.]\n [0. 0. 0. 0. 0. 1.]]\n"
          ]
        },
        {
          "output_type": "execute_result",
          "execution_count": 15,
          "data": {
            "text/plain": "numpy.ndarray"
          },
          "metadata": {}
        }
      ],
      "execution_count": 6,
      "metadata": {
        "jupyter": {
          "source_hidden": false,
          "outputs_hidden": false
        },
        "nteract": {
          "transient": {
            "deleting": false
          }
        }
      }
    }
  ],
  "metadata": {
    "language_info": {
      "name": "python"
    },
    "kernelspec": {
      "name": "synapse_pyspark",
      "language": "Python",
      "display_name": "Synapse PySpark"
    },
    "kernel_info": {
      "name": "synapse_pyspark"
    },
    "save_output": true,
    "synapse_widget": {
      "version": "0.1",
      "state": {}
    }
  },
  "nbformat": 4,
  "nbformat_minor": 2
}