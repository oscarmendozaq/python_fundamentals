{
  "nbformat": 4,
  "nbformat_minor": 0,
  "metadata": {
    "colab": {
      "provenance": []
    },
    "kernelspec": {
      "name": "python3",
      "display_name": "Python 3"
    },
    "language_info": {
      "name": "python"
    }
  },
  "cells": [
    {
      "cell_type": "code",
      "execution_count": 14,
      "metadata": {
        "colab": {
          "base_uri": "https://localhost:8080/"
        },
        "id": "QR9Y7FYJDbND",
        "outputId": "0947cd88-ba9a-4b91-af5a-b98e7d642e94"
      },
      "outputs": [
        {
          "output_type": "stream",
          "name": "stdout",
          "text": [
            "ingrese el tiempo de estacionamiento (en minutos), para terminar digite cero 70\n",
            "ingrese el tiempo de estacionamiento (en minutos), para terminar digite cero 0\n",
            "el valor a pagar es  25 equivalente a  1 horas\n"
          ]
        }
      ],
      "source": [
        "# tiempo en estacionamiento\n",
        "\n",
        "x=int(input(\"ingrese el tiempo de estacionamiento (en minutos), para terminar digite cero \"))\n",
        "tiempo=0\n",
        "total=0\n",
        "while x !=0:\n",
        "  if x<0:\n",
        "    print(\"ingrese un valor positivo\")\n",
        "  else:\n",
        "    tiempo=tiempo+x\n",
        "    x=int(input(\"ingrese el tiempo de estacionamiento (en minutos), para terminar digite cero \"))\n",
        "tiempo//=60\n",
        "if tiempo==0:\n",
        " total=0\n",
        "elif tiempo<1 and tiempo>0:\n",
        "  total=25\n",
        "elif tiempo <=8:\n",
        "  total=25+ (tiempo-1)*15\n",
        "else:\n",
        "  total=25+ (tiempo-1)*15 + 200\n",
        "\n",
        "print(\"el valor a pagar es \", total, \"equivalente a \",tiempo,\"horas\")\n"
      ]
    }
  ]
}