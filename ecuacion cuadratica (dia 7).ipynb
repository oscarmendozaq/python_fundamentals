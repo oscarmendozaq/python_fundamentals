{
  "nbformat": 4,
  "nbformat_minor": 0,
  "metadata": {
    "colab": {
      "provenance": []
    },
    "kernelspec": {
      "name": "python3",
      "display_name": "Python 3"
    },
    "language_info": {
      "name": "python"
    }
  },
  "cells": [
    {
      "cell_type": "code",
      "execution_count": 13,
      "metadata": {
        "colab": {
          "base_uri": "https://localhost:8080/"
        },
        "id": "-KIYPvV6atX-",
        "outputId": "290d11d9-50ee-467e-d044-b3d5771c82a9"
      },
      "outputs": [
        {
          "output_type": "execute_result",
          "data": {
            "text/plain": [
              "(-1.0, -4.0)"
            ]
          },
          "metadata": {},
          "execution_count": 13
        }
      ],
      "source": [
        "# Ecuación cuadrática (dia 9)\n",
        "def cuadratica (a, b, c):\n",
        "  discriminante = b**2-4*a*c\n",
        "  if discriminante < 0:\n",
        "    print (\"la respuesta cuenta con un valor imaginario\")\n",
        "\n",
        "  else:\n",
        "   x1 = (-b + discriminante ** 0.5)/(2*a)\n",
        "   x2 = (-b - discriminante ** 0.5)/(2*a)\n",
        "   return x1, x2\n",
        "\n",
        "cuadratica (1,5,4)"
      ]
    }
  ]
}