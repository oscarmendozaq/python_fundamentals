{
  "cells": [
    {
      "cell_type": "code",
      "source": [
        "#ecuacion 1\r\n",
        "x=24/2\r\n",
        "print(f\"Tengo{x}años.\")"
      ],
      "outputs": [
        {
          "output_type": "display_data",
          "data": {
            "application/vnd.livy.statement-meta+json": {
              "spark_pool": "SPK09",
              "session_id": "0",
              "statement_id": 48,
              "state": "finished",
              "livy_statement_state": "available",
              "queued_time": "2023-07-17T15:19:13.7978596Z",
              "session_start_time": null,
              "execution_start_time": "2023-07-17T15:19:13.9482628Z",
              "execution_finish_time": "2023-07-17T15:19:14.1075773Z",
              "spark_jobs": null,
              "parent_msg_id": "1e7cb49c-9b12-4fbc-a9e5-50e943c14f86"
            },
            "text/plain": "StatementMeta(SPK09, 0, 48, Finished, Available)"
          },
          "metadata": {}
        },
        {
          "output_type": "stream",
          "name": "stdout",
          "text": [
            "Tengo12.0años.\n"
          ]
        }
      ],
      "execution_count": 47,
      "metadata": {}
    },
    {
      "cell_type": "code",
      "source": [
        "#ecuacion 2\r\n",
        "mi_edad=6\r\n",
        "y=(mi_edad + 15)*3\r\n",
        "print(f\"Mi hermana tiene {y} años.\")"
      ],
      "outputs": [
        {
          "output_type": "display_data",
          "data": {
            "application/vnd.livy.statement-meta+json": {
              "spark_pool": "SPK09",
              "session_id": "0",
              "statement_id": 49,
              "state": "finished",
              "livy_statement_state": "available",
              "queued_time": "2023-07-17T15:19:13.8549471Z",
              "session_start_time": null,
              "execution_start_time": "2023-07-17T15:19:14.2822907Z",
              "execution_finish_time": "2023-07-17T15:19:14.4582284Z",
              "spark_jobs": null,
              "parent_msg_id": "74fd0066-466c-4407-8f2f-0a10b4a19a6b"
            },
            "text/plain": "StatementMeta(SPK09, 0, 49, Finished, Available)"
          },
          "metadata": {}
        },
        {
          "output_type": "stream",
          "name": "stdout",
          "text": [
            "Mi hermana tiene 63 años.\n"
          ]
        }
      ],
      "execution_count": 48,
      "metadata": {
        "jupyter": {
          "source_hidden": false,
          "outputs_hidden": false
        },
        "nteract": {
          "transient": {
            "deleting": false
          }
        }
      }
    },
    {
      "cell_type": "code",
      "source": [
        "#comparar edades\r\n",
        "if x>y:\r\n",
        "    print(\"Soy mayor que mi 'hermana'.\")\r\n",
        "elif x<y:\r\n",
        "    print(\"Mi 'hermana' es mayor que yo.\")\r\n",
        "else:\r\n",
        "    print(\"Mi 'hermana' y yo tenemos la misma edad.\")\r\n"
      ],
      "outputs": [
        {
          "output_type": "display_data",
          "data": {
            "application/vnd.livy.statement-meta+json": {
              "spark_pool": "SPK09",
              "session_id": "0",
              "statement_id": 50,
              "state": "finished",
              "livy_statement_state": "available",
              "queued_time": "2023-07-17T15:19:13.8841613Z",
              "session_start_time": null,
              "execution_start_time": "2023-07-17T15:19:14.602193Z",
              "execution_finish_time": "2023-07-17T15:19:14.8083982Z",
              "spark_jobs": null,
              "parent_msg_id": "2b05503f-0e2b-469e-8235-66abe37acdee"
            },
            "text/plain": "StatementMeta(SPK09, 0, 50, Finished, Available)"
          },
          "metadata": {}
        },
        {
          "output_type": "stream",
          "name": "stdout",
          "text": [
            "Mi 'hermana' es mayor que yo.\n"
          ]
        }
      ],
      "execution_count": 49,
      "metadata": {
        "jupyter": {
          "source_hidden": false,
          "outputs_hidden": false
        },
        "nteract": {
          "transient": {
            "deleting": false
          }
        }
      }
    }
  ],
  "metadata": {
    "language_info": {
      "name": "python"
    },
    "kernelspec": {
      "name": "synapse_pyspark",
      "language": "Python",
      "display_name": "Synapse PySpark"
    },
    "kernel_info": {
      "name": "synapse_pyspark"
    },
    "save_output": true,
    "synapse_widget": {
      "version": "0.1",
      "state": {}
    }
  },
  "nbformat": 4,
  "nbformat_minor": 2
}