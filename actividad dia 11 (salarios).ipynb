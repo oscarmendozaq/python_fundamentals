{
  "nbformat": 4,
  "nbformat_minor": 0,
  "metadata": {
    "colab": {
      "provenance": []
    },
    "kernelspec": {
      "name": "python3",
      "display_name": "Python 3"
    },
    "language_info": {
      "name": "python"
    }
  },
  "cells": [
    {
      "cell_type": "code",
      "execution_count": 4,
      "metadata": {
        "colab": {
          "base_uri": "https://localhost:8080/"
        },
        "id": "f6LGpqZ-8LcW",
        "outputId": "d69ee02b-9425-4709-eb4e-9fe87c3dc031"
      },
      "outputs": [
        {
          "output_type": "stream",
          "name": "stdout",
          "text": [
            "   nombre  Edad  Salario Genero\n",
            "0   Ringo    45    12000      M\n",
            "1    John    34    14000      M\n",
            "2    Paul    42    13000      M\n",
            "3  George    38    11000      M\n",
            "4    Yoko    47    10000      F\n",
            "El rango es 4000\n",
            "count        5.00000\n",
            "mean     12000.00000\n",
            "std       1581.13883\n",
            "min      10000.00000\n",
            "25%      11000.00000\n",
            "50%      12000.00000\n",
            "75%      13000.00000\n",
            "max      14000.00000\n",
            "Name: Salario, dtype: float64\n"
          ]
        }
      ],
      "source": [
        "# estadística salarios\n",
        "import pandas as pd\n",
        "salarios={\n",
        "    \"nombre\":[\"Ringo\",\"John\",\"Paul\",\"George\",\"Yoko\"],\n",
        "    \"Edad\":[45,34,42,38,47],\n",
        "    \"Salario\":[12000,14000,13000,11000,10000],\n",
        "    \"Genero\":[\"M\",\"M\",\"M\",\"M\",\"F\"]\n",
        "}\n",
        "df = pd.DataFrame(salarios)\n",
        "print(df.head())\n",
        "\n",
        "col_salario=df[\"Salario\"]\n",
        "type(col_salario)\n",
        "\n",
        "rango = col_salario.max()-col_salario.min()\n",
        "print(f\"El rango es {rango}\")\n",
        "print(col_salario.describe())"
      ]
    }
  ]
}