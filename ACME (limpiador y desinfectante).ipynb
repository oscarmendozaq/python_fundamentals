{
  "nbformat": 4,
  "nbformat_minor": 0,
  "metadata": {
    "colab": {
      "provenance": []
    },
    "kernelspec": {
      "name": "python3",
      "display_name": "Python 3"
    },
    "language_info": {
      "name": "python"
    }
  },
  "cells": [
    {
      "cell_type": "code",
      "execution_count": 13,
      "metadata": {
        "colab": {
          "base_uri": "https://localhost:8080/"
        },
        "id": "cfiWkGDLGKEW",
        "outputId": "41c600f2-c38a-4fc5-8779-1a36a81a2572"
      },
      "outputs": [
        {
          "output_type": "stream",
          "name": "stdout",
          "text": [
            "ingrese inventario de hipoclorito en litros1\n",
            "ingrese inventario de alcohol en litros1\n",
            "ingrese inventario de amoniaco en litros1\n",
            "ingrese inventario de colorantes / perfume en litros1\n",
            "este es el menú de productos: a: limpiador de vidrios b: desinfectante\n",
            "elija el producto que desea entre a o b: c\n",
            "elija la cantidad deseada en litros: 1\n",
            "elección incorrecta\n"
          ]
        }
      ],
      "source": [
        "#ACME\n",
        "hipoclorito=float(input(\"ingrese inventario de hipoclorito en litros\"))\n",
        "alcohol=float(input(\"ingrese inventario de alcohol en litros\"))\n",
        "amoniaco=float(input(\"ingrese inventario de amoniaco en litros\"))\n",
        "colorantesPerfume=float(input(\"ingrese inventario de colorantes / perfume en litros\"))\n",
        "\n",
        "print(\"este es el menú de productos: a: limpiador de vidrios b: desinfectante\")\n",
        "eleccion=str(input(\"elija el producto que desea entre a o b: \"))\n",
        "cantidad=float(input(\"elija la cantidad deseada en litros: \"))\n",
        "if(eleccion==\"a\"):\n",
        "    if(cantidad*0.4<=amoniaco):\n",
        "        if(cantidad*0.2<=alcohol):\n",
        "            if(cantidad*0.1<=colorantesPerfume):\n",
        "             print(\"El pedido de limpiador de pisos será entregado. La fórmula en litros es: amoniaco:\",cantidad*0.4,\", alcohol:\",cantidad*0.2,\", colorantes/perfume:\",cantidad*0.1,\", agua:\",cantidad*0.3)\n",
        "            else: print (\"no hay suficientes materiales para el pedido\")\n",
        "        else: print (\"no hay suficientes materiales para el pedido\")\n",
        "    else: print (\"no hay suficientes materiales para el pedido\")\n",
        "else:\n",
        "    if(eleccion==\"b\"):\n",
        "        if(cantidad*0.5<=hipoclorito):\n",
        "            if(cantidad*0.1<=amoniaco):\n",
        "                if(cantidad*0.1<=colorantesPerfume):\n",
        "                 print(\"El pedido de desinfectante será entregado, la fórmula en litros es: hipoclorito:\",cantidad*0.5,\", amoniaco:\",cantidad*0.1,\", colorantes/perfume:\",cantidad*0.1,\", agua:\",cantidad*0.3)\n",
        "                else: print (\"no hay suficientes materiales para el pedido\")\n",
        "            else: print (\"no hay suficientes materiales para el pedido\")\n",
        "        else: print (\"no hay suficientes materiales para el pedido\")\n",
        "    else: print(\"elección incorrecta\")\n",
        "\n",
        "\n",
        "\n"
      ]
    }
  ]
}