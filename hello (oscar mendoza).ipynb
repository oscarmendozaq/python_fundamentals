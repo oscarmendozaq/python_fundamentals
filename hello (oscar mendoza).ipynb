{
  "cells": [
    {
      "cell_type": "code",
      "source": [
        "# Actividad 1: hello\r\n",
        "print(\"mi nombre es Oscar Mendoza\")\r\n",
        "print(\"la ciencia es potencia, el conocimiento es poder\")"
      ],
      "outputs": [
        {
          "output_type": "display_data",
          "data": {
            "application/vnd.livy.statement-meta+json": {
              "spark_pool": "SPK01",
              "session_id": "3",
              "statement_id": 3,
              "state": "finished",
              "livy_statement_state": "available",
              "queued_time": "2023-07-17T14:29:59.3403042Z",
              "session_start_time": null,
              "execution_start_time": "2023-07-17T14:29:59.5215207Z",
              "execution_finish_time": "2023-07-17T14:29:59.6967198Z",
              "spark_jobs": null,
              "parent_msg_id": "9e454841-d3eb-4ec1-b973-cab355668c41"
            },
            "text/plain": "StatementMeta(SPK01, 3, 3, Finished, Available)"
          },
          "metadata": {}
        },
        {
          "output_type": "stream",
          "name": "stdout",
          "text": [
            "mi nombre es Oscar Mendoza\nla ciencia es potencia, el conocimiento es poder\n"
          ]
        }
      ],
      "execution_count": 2,
      "metadata": {
        "jupyter": {
          "source_hidden": false,
          "outputs_hidden": false
        },
        "nteract": {
          "transient": {
            "deleting": false
          }
        }
      }
    },
    {
      "cell_type": "code",
      "source": [],
      "outputs": [],
      "execution_count": null,
      "metadata": {
        "jupyter": {
          "source_hidden": false,
          "outputs_hidden": false
        },
        "nteract": {
          "transient": {
            "deleting": false
          }
        }
      }
    }
  ],
  "metadata": {
    "language_info": {
      "name": "python"
    },
    "kernelspec": {
      "name": "synapse_pyspark",
      "language": "Python",
      "display_name": "Synapse PySpark"
    },
    "kernel_info": {
      "name": "synapse_pyspark"
    },
    "save_output": true,
    "synapse_widget": {
      "version": "0.1",
      "state": {}
    }
  },
  "nbformat": 4,
  "nbformat_minor": 2
}