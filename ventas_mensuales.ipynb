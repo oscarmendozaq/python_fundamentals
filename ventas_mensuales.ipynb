{
  "cells": [
    {
      "cell_type": "code",
      "source": [
        "#ventas mensuales\r\n",
        "import numpy as np\r\n",
        "ventas_mensuales= np.array([[21,25,35,10],[11,15,12,4],[47,54,51,50],[21,22,22,22],[19,20,18,19],[6,10,9,8],[28,22,33,22],[11,15,14,16],[9,2,3,2],[10,9,9,8],[32,29,31,33],[12,16,24,17]])\r\n",
        "ventas_mensuales.shape\r\n",
        "(5, 12)\r\n",
        "print(ventas_mensuales)\r\n",
        "\r\n"
      ],
      "outputs": [
        {
          "output_type": "display_data",
          "data": {
            "application/vnd.livy.statement-meta+json": {
              "spark_pool": "SPK09",
              "session_id": "3",
              "statement_id": 34,
              "state": "finished",
              "livy_statement_state": "available",
              "queued_time": "2023-07-19T20:55:43.7117183Z",
              "session_start_time": null,
              "execution_start_time": "2023-07-19T20:55:43.8687848Z",
              "execution_finish_time": "2023-07-19T20:55:44.0483903Z",
              "spark_jobs": null,
              "parent_msg_id": "960684a1-ca90-49cb-9b1a-398f248df2df"
            },
            "text/plain": "StatementMeta(SPK09, 3, 34, Finished, Available)"
          },
          "metadata": {}
        },
        {
          "output_type": "stream",
          "name": "stdout",
          "text": [
            "[[21 25 35 10]\n [11 15 12  4]\n [47 54 51 50]\n [21 22 22 22]\n [19 20 18 19]\n [ 6 10  9  8]\n [28 22 33 22]\n [11 15 14 16]\n [ 9  2  3  2]\n [10  9  9  8]\n [32 29 31 33]\n [12 16 24 17]]\n"
          ]
        }
      ],
      "execution_count": 33,
      "metadata": {}
    },
    {
      "cell_type": "code",
      "source": [
        "t=sum(ventas_mensuales)\r\n",
        "print(\"el total de ventas fue\") \r\n",
        "print(t)"
      ],
      "outputs": [
        {
          "output_type": "display_data",
          "data": {
            "application/vnd.livy.statement-meta+json": {
              "spark_pool": "SPK09",
              "session_id": "3",
              "statement_id": 35,
              "state": "finished",
              "livy_statement_state": "available",
              "queued_time": "2023-07-19T20:55:43.7594854Z",
              "session_start_time": null,
              "execution_start_time": "2023-07-19T20:55:44.265434Z",
              "execution_finish_time": "2023-07-19T20:55:44.5283427Z",
              "spark_jobs": null,
              "parent_msg_id": "9a355a22-7bcd-409c-b0a4-3411e0ca0712"
            },
            "text/plain": "StatementMeta(SPK09, 3, 35, Finished, Available)"
          },
          "metadata": {}
        },
        {
          "output_type": "stream",
          "name": "stdout",
          "text": [
            "el total de ventas fue\n[227 239 261 211]\n"
          ]
        }
      ],
      "execution_count": 34,
      "metadata": {
        "jupyter": {
          "source_hidden": false,
          "outputs_hidden": false
        },
        "nteract": {
          "transient": {
            "deleting": false
          }
        }
      }
    }
  ],
  "metadata": {
    "language_info": {
      "name": "python"
    },
    "kernelspec": {
      "name": "synapse_pyspark",
      "language": "Python",
      "display_name": "Synapse PySpark"
    },
    "kernel_info": {
      "name": "synapse_pyspark"
    },
    "save_output": true,
    "synapse_widget": {
      "version": "0.1",
      "state": {}
    }
  },
  "nbformat": 4,
  "nbformat_minor": 2
}