{
  "cells": [
    {
      "cell_type": "code",
      "source": [
        "#mi tupla (oscar mendoza)\r\n",
        "a= \"piton reticulada\"\r\n",
        "b= 37\r\n",
        "c= 1.69\r\n",
        "d= True\r\n",
        "mi_tupla=(a, b, c, d)\r\n",
        "print(mi_tupla)\r\n",
        "type(mi_tupla)"
      ],
      "outputs": [
        {
          "output_type": "display_data",
          "data": {
            "application/vnd.livy.statement-meta+json": {
              "spark_pool": "SPK09",
              "session_id": "0",
              "statement_id": 36,
              "state": "finished",
              "livy_statement_state": "available",
              "queued_time": "2023-07-17T15:07:00.4164954Z",
              "session_start_time": null,
              "execution_start_time": "2023-07-17T15:07:00.5674827Z",
              "execution_finish_time": "2023-07-17T15:07:00.7246469Z",
              "spark_jobs": null,
              "parent_msg_id": "34b2a6ab-24a9-43dd-8c40-469603eb73fa"
            },
            "text/plain": "StatementMeta(SPK09, 0, 36, Finished, Available)"
          },
          "metadata": {}
        },
        {
          "output_type": "stream",
          "name": "stdout",
          "text": [
            "('piton reticulada', 37, 1.69, True)\n"
          ]
        },
        {
          "output_type": "execute_result",
          "execution_count": 73,
          "data": {
            "text/plain": "tuple"
          },
          "metadata": {}
        }
      ],
      "execution_count": 35,
      "metadata": {}
    },
    {
      "cell_type": "code",
      "source": [
        "mi_lista=list(mi_tupla)\r\n",
        "print(mi_lista)\r\n",
        "type(mi_lista)"
      ],
      "outputs": [
        {
          "output_type": "display_data",
          "data": {
            "application/vnd.livy.statement-meta+json": {
              "spark_pool": "SPK09",
              "session_id": "0",
              "statement_id": 37,
              "state": "finished",
              "livy_statement_state": "available",
              "queued_time": "2023-07-17T15:07:00.4688034Z",
              "session_start_time": null,
              "execution_start_time": "2023-07-17T15:07:00.8745455Z",
              "execution_finish_time": "2023-07-17T15:07:01.0379847Z",
              "spark_jobs": null,
              "parent_msg_id": "79c927e8-6f6c-4007-9dee-9d63943be71b"
            },
            "text/plain": "StatementMeta(SPK09, 0, 37, Finished, Available)"
          },
          "metadata": {}
        },
        {
          "output_type": "stream",
          "name": "stdout",
          "text": [
            "['piton reticulada', 37, 1.69, True]\n"
          ]
        },
        {
          "output_type": "execute_result",
          "execution_count": 75,
          "data": {
            "text/plain": "list"
          },
          "metadata": {}
        }
      ],
      "execution_count": 36,
      "metadata": {
        "jupyter": {
          "source_hidden": false,
          "outputs_hidden": false
        },
        "nteract": {
          "transient": {
            "deleting": false
          }
        }
      }
    },
    {
      "cell_type": "code",
      "source": [
        "mi_diccionario={}\r\n",
        "for i in range(len(mi_lista)):\r\n",
        "    mi_diccionario[i+1]=mi_lista[i]\r\n",
        "    print(mi_diccionario)\r\n",
        "  "
      ],
      "outputs": [
        {
          "output_type": "display_data",
          "data": {
            "application/vnd.livy.statement-meta+json": {
              "spark_pool": "SPK09",
              "session_id": "0",
              "statement_id": 38,
              "state": "finished",
              "livy_statement_state": "available",
              "queued_time": "2023-07-17T15:07:00.5441121Z",
              "session_start_time": null,
              "execution_start_time": "2023-07-17T15:07:01.201226Z",
              "execution_finish_time": "2023-07-17T15:07:01.362946Z",
              "spark_jobs": null,
              "parent_msg_id": "68a7408e-a61d-4793-94ec-55902d98671d"
            },
            "text/plain": "StatementMeta(SPK09, 0, 38, Finished, Available)"
          },
          "metadata": {}
        },
        {
          "output_type": "stream",
          "name": "stdout",
          "text": [
            "{1: 'piton reticulada'}\n{1: 'piton reticulada', 2: 37}\n{1: 'piton reticulada', 2: 37, 3: 1.69}\n{1: 'piton reticulada', 2: 37, 3: 1.69, 4: True}\n"
          ]
        }
      ],
      "execution_count": 37,
      "metadata": {
        "jupyter": {
          "source_hidden": false,
          "outputs_hidden": false
        },
        "nteract": {
          "transient": {
            "deleting": false
          }
        }
      }
    }
  ],
  "metadata": {
    "language_info": {
      "name": "python"
    },
    "kernelspec": {
      "name": "synapse_pyspark",
      "language": "Python",
      "display_name": "Synapse PySpark"
    },
    "kernel_info": {
      "name": "synapse_pyspark"
    },
    "save_output": true,
    "synapse_widget": {
      "version": "0.1",
      "state": {}
    }
  },
  "nbformat": 4,
  "nbformat_minor": 2
}