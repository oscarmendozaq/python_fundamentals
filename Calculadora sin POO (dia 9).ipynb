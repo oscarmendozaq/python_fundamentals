{
  "nbformat": 4,
  "nbformat_minor": 0,
  "metadata": {
    "colab": {
      "provenance": []
    },
    "kernelspec": {
      "name": "python3",
      "display_name": "Python 3"
    },
    "language_info": {
      "name": "python"
    }
  },
  "cells": [
    {
      "cell_type": "code",
      "execution_count": 10,
      "metadata": {
        "colab": {
          "base_uri": "https://localhost:8080/"
        },
        "id": "m-SmQveVFxoX",
        "outputId": "20fd4ab5-2508-4e89-a513-33fd2f4ada11"
      },
      "outputs": [
        {
          "output_type": "stream",
          "name": "stdout",
          "text": [
            "Ingrese primer valor -->8\n",
            "Ingrese segundo valor -->7\n",
            "Elija tipo de operación: 1: Suma, 2: Resta, 3: Multiplicación, 4: División -->3\n",
            "El producto es  56.0\n"
          ]
        }
      ],
      "source": [
        "# Calculadora\n",
        "x1 = float(input(\"Ingrese primer valor -->\"))\n",
        "x2 = float(input(\"Ingrese segundo valor -->\"))\n",
        "tipo = int(input(\"Elija tipo de operación: 1: Suma, 2: Resta, 3: Multiplicación, 4: División -->\"))\n",
        "\n",
        "if tipo == 1:\n",
        "  y = x1 + x2\n",
        "  print (\"La suma da \", y)\n",
        "elif tipo == 2:\n",
        "  y = x1 - x2\n",
        "  print (\"El resultado es \",y)\n",
        "elif tipo == 3:\n",
        "  y = x1 * x2\n",
        "  print (\"El producto es \",y)\n",
        "elif tipo == 4:\n",
        "  if x2 == 0:\n",
        "    print (\"El resultado es indefinido\")\n",
        "  else:\n",
        "    y = x1 / x2\n",
        "    print (\"El cociente es \", y)\n",
        "else:\n",
        "  print (\"error\")\n",
        "\n"
      ]
    }
  ]
}