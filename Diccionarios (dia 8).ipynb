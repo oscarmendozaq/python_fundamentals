{
  "nbformat": 4,
  "nbformat_minor": 0,
  "metadata": {
    "colab": {
      "provenance": []
    },
    "kernelspec": {
      "name": "python3",
      "display_name": "Python 3"
    },
    "language_info": {
      "name": "python"
    }
  },
  "cells": [
    {
      "cell_type": "code",
      "execution_count": 4,
      "metadata": {
        "colab": {
          "base_uri": "https://localhost:8080/"
        },
        "id": "9xbvo4fnWWHB",
        "outputId": "b0385e1c-fe4f-43fa-c285-a8b50222f9be"
      },
      "outputs": [
        {
          "output_type": "stream",
          "name": "stdout",
          "text": [
            "Nombre:Oscar\n",
            "Numero:37\n",
            "Nombre:Maria\n",
            "Numero:32\n",
            "Nombre:Sebastian\n",
            "Numero:28\n",
            "Nombre:Paola\n",
            "Numero:35\n",
            "Nombre:Laura\n",
            "Numero:36\n",
            "El valor mas pequeño de la lista es: 28\n",
            "El valor mas grande de la lista es: 37\n"
          ]
        }
      ],
      "source": [
        "#diccionario (dia 8)\n",
        "diccionario_base = {\"Oscar\":37,\"Maria\":32,\"Sebastian\":28,\"Paola\":35,\"Laura\":36}\n",
        "for i in diccionario_base:\n",
        "  nombre= i\n",
        "  print (f\"Nombre:{nombre}\")\n",
        "  numero = diccionario_base[i]\n",
        "  print(f\"Numero:{numero}\")\n",
        "valores = diccionario_base.values()\n",
        "minimo = min(valores)\n",
        "maximo = max(valores)\n",
        "print(f\"El valor mas pequeño de la lista es: {minimo}\")\n",
        "print(f\"El valor mas grande de la lista es: {maximo}\")"
      ]
    }
  ]
}