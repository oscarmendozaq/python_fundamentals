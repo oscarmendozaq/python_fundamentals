{
  "cells": [
    {
      "cell_type": "code",
      "source": [
        "# Actividad 1: hello\r\n",
        "print(\"mi nombre es Oscar Mendoza\")\r\n",
        "print(\"la ciencia es potencia, el conocimiento es poder\")"
      ],
      "outputs": [
        {
          "output_type": "display_data",
          "data": {
            "application/vnd.livy.statement-meta+json": {
              "spark_pool": "SPK01",
              "session_id": "3",
              "statement_id": 6,
              "state": "finished",
              "livy_statement_state": "available",
              "queued_time": "2023-07-17T14:35:22.8952632Z",
              "session_start_time": null,
              "execution_start_time": "2023-07-17T14:35:23.0419361Z",
              "execution_finish_time": "2023-07-17T14:35:23.2059667Z",
              "spark_jobs": null,
              "parent_msg_id": "824b61a9-f4f5-4ab2-896e-5b03786d5f4a"
            },
            "text/plain": "StatementMeta(SPK01, 3, 6, Finished, Available)"
          },
          "metadata": {}
        },
        {
          "output_type": "stream",
          "name": "stdout",
          "text": [
            "mi nombre es Oscar Mendoza\nla ciencia es potencia, el conocimiento es poder\n"
          ]
        }
      ],
      "execution_count": 5,
      "metadata": {
        "jupyter": {
          "source_hidden": false,
          "outputs_hidden": false
        },
        "nteract": {
          "transient": {
            "deleting": false
          }
        }
      }
    },
    {
      "cell_type": "code",
      "source": [
        "#segunda parte\r\n",
        "print(\"hola mundo\")"
      ],
      "outputs": [
        {
          "output_type": "display_data",
          "data": {
            "application/vnd.livy.statement-meta+json": {
              "spark_pool": "SPK01",
              "session_id": "3",
              "statement_id": 7,
              "state": "finished",
              "livy_statement_state": "available",
              "queued_time": "2023-07-17T14:35:22.9519138Z",
              "session_start_time": null,
              "execution_start_time": "2023-07-17T14:35:23.3761202Z",
              "execution_finish_time": "2023-07-17T14:35:23.6011505Z",
              "spark_jobs": null,
              "parent_msg_id": "e1f62f00-dbe2-4f10-8b35-561d06a2bb9a"
            },
            "text/plain": "StatementMeta(SPK01, 3, 7, Finished, Available)"
          },
          "metadata": {}
        },
        {
          "output_type": "stream",
          "name": "stdout",
          "text": [
            "hola mundo\n"
          ]
        }
      ],
      "execution_count": 6,
      "metadata": {
        "jupyter": {
          "source_hidden": false,
          "outputs_hidden": false
        },
        "nteract": {
          "transient": {
            "deleting": false
          }
        }
      }
    }
  ],
  "metadata": {
    "language_info": {
      "name": "python"
    },
    "kernelspec": {
      "name": "synapse_pyspark",
      "language": "Python",
      "display_name": "Synapse PySpark"
    },
    "kernel_info": {
      "name": "synapse_pyspark"
    },
    "save_output": true,
    "synapse_widget": {
      "version": "0.1",
      "state": {}
    }
  },
  "nbformat": 4,
  "nbformat_minor": 2
}